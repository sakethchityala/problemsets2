{
 "cells": [
  {
   "cell_type": "markdown",
   "metadata": {},
   "source": [
    "# Problem 1: Intertemporal Optimality"
   ]
  },
  {
   "cell_type": "markdown",
   "metadata": {},
   "source": [
    "### $$The~Agent’s~endowment~for~the~two~periods = (e_t,e_{t+1})$$\n",
    "\n",
    "### $$Comsuption~Plan = (c_t,c_{t+1})$$\n",
    "\n",
    "### $Agent~period~utility~function:$ $$u(c) = \\frac{c^{1−\\gamma}}{ 1−\\gamma} $$\n",
    "\n",
    "### $$U(C_t, C_{t+1}) = U(C_t)+\\beta~\\mathop{\\mathbb{E}}_t[U(C_{t+1})]$$\n",
    "### $\\beta~is~impatience~rate.$\n",
    "\n",
    "### $Budget~constraint$ $$C_t = e_t - \\theta p_t$$ $$C_{t+1} = e_{t+1} + X_{t+1}\\theta$$\n",
    "\n",
    "### $here~payoff~~of~the~risk~free~asset~is~R_f~and~the~price~p_t = 1$\n",
    "\n",
    "### $$\\max_{\\theta}~U(C_t)+\\beta~\\mathop{\\mathbb{E}}_t[U(C_{t+1})]$$\n",
    "\n",
    "### $\\implies$ $$C_t = e_t - \\theta~~~~~~~~~~~~~~~~~~~~~~~~~~~(1)$$ $$C_{t+1} = e_{t+1} + R_f\\theta~~~~~~~~~~~~~~~~(2)$$ \n",
    "\n",
    "\n",
    "### $$L = U(e_t - \\theta)+\\beta~\\mathop{\\mathbb{E}}_t[U(e_{t+1}+R_f \\theta)]$$\n",
    "\n",
    "### $Optimize~~w.r.t~~\\theta~~to~get~FOC$\n",
    "\n",
    "### $$\\frac{\\delta L}{\\delta \\theta} = -U'(C_t)+\\beta~\\mathop{\\mathbb{E}}_t[U'(C_{t+1})R_f] = 0$$\n",
    "\n",
    "###  $\\implies$ $$U'(C_t) = \\beta R_f U'(C_{t+1})$$\n",
    "\n",
    "### $$U(C) = \\frac{C^{1-\\gamma}}{1-\\gamma}~~~~~~~~~~~~~~~~~U'(C) = \\frac{1}{C^{\\gamma}}$$\n",
    "\n",
    "\n",
    "###  $\\implies$ $$\\frac{C_{t+1}}{C_t} = (\\beta R_f)^{\\frac{1}{\\gamma}} $$\n",
    "\n",
    "### solving for optimal $\\theta^*$ gives\n",
    "\n",
    "\n",
    "### $$\\theta^* = \\frac{e_t(\\beta R_f)^{\\frac{1}{\\gamma}}- e_{t+1}}{R_f+(\\beta R_f)^{\\frac{1}{\\gamma}}}$$ \n",
    "\n",
    "\n",
    "$\\implies$ $$C_t^* = \\frac{e_t R_f + e_{t+1}}{R_f+(\\beta R_f)^{\\frac{1}{\\gamma}}}$$ \n",
    "\n",
    "$$C_{t+1}^* = \\frac{(\\beta R_f)^{\\frac{1}{\\gamma}}(e_t R_f + e_{t+1})}{R_f+(\\beta R_f)^{\\frac{1}{\\gamma}}}$$ \n",
    "\n",
    "\n",
    "### $$\\frac{C_{t+1}^*}{c_t^*} = (\\beta R_f)^{\\frac{1}{\\gamma}} $$\n",
    "\n",
    "\n",
    "### this optimal consumption growth is decreasing in $\\gamma$\n",
    "\n",
    "\n",
    "### elasticity of Inter-temporal substitution $$\\frac{d(\\frac{c_{t+1}}{c_t})~/~(\\frac{c_{t+1}}{c_t})}{dR~/~R} = \\frac{d \\ln(\\frac{c_{t+1}}{c_t})}{d \\ln R} = \\frac{1}{\\gamma}$$\n",
    "\n",
    "### Hence, increasing $\\gamma$ (i.e., reducing $\\frac{1}{\\gamma}$) make the agent more unwilling to postpone consumption \n",
    "\n",
    "\n",
    "\n",
    "\n",
    "\n",
    "\n",
    "\n",
    "\n",
    "\n",
    "\n",
    "\n",
    "\n",
    "\n",
    "\n",
    "\n",
    "\n",
    "\n",
    "\n",
    "\n",
    "\n"
   ]
  },
  {
   "cell_type": "markdown",
   "metadata": {},
   "source": [
    "# Problem 2"
   ]
  },
  {
   "cell_type": "markdown",
   "metadata": {},
   "source": [
    "# Consumption Data"
   ]
  },
  {
   "cell_type": "code",
   "execution_count": 852,
   "metadata": {
    "hide_input": true
   },
   "outputs": [],
   "source": [
    "import pandas as pd"
   ]
  },
  {
   "cell_type": "code",
   "execution_count": 853,
   "metadata": {
    "hide_input": false
   },
   "outputs": [],
   "source": [
    "df = pd.read_excel('consump.xlsx')"
   ]
  },
  {
   "cell_type": "code",
   "execution_count": 854,
   "metadata": {},
   "outputs": [
    {
     "data": {
      "text/html": [
       "<div>\n",
       "<style scoped>\n",
       "    .dataframe tbody tr th:only-of-type {\n",
       "        vertical-align: middle;\n",
       "    }\n",
       "\n",
       "    .dataframe tbody tr th {\n",
       "        vertical-align: top;\n",
       "    }\n",
       "\n",
       "    .dataframe thead th {\n",
       "        text-align: right;\n",
       "    }\n",
       "</style>\n",
       "<table border=\"1\" class=\"dataframe\">\n",
       "  <thead>\n",
       "    <tr style=\"text-align: right;\">\n",
       "      <th></th>\n",
       "      <th>date</th>\n",
       "      <th>PCECA</th>\n",
       "      <th>PCDGA</th>\n",
       "      <th>PCNDA</th>\n",
       "      <th>PCESVA</th>\n",
       "      <th>DPCERD3A086NBEA</th>\n",
       "      <th>PCECCA</th>\n",
       "      <th>inflation</th>\n",
       "    </tr>\n",
       "  </thead>\n",
       "  <tbody>\n",
       "    <tr>\n",
       "      <th>0</th>\n",
       "      <td>1929-01-01</td>\n",
       "      <td>77.382</td>\n",
       "      <td>9.829</td>\n",
       "      <td>33.941</td>\n",
       "      <td>33.613</td>\n",
       "      <td>9.314</td>\n",
       "      <td>830.819</td>\n",
       "      <td>NaN</td>\n",
       "    </tr>\n",
       "    <tr>\n",
       "      <th>1</th>\n",
       "      <td>1930-01-01</td>\n",
       "      <td>70.136</td>\n",
       "      <td>7.661</td>\n",
       "      <td>30.503</td>\n",
       "      <td>31.972</td>\n",
       "      <td>8.920</td>\n",
       "      <td>786.314</td>\n",
       "      <td>NaN</td>\n",
       "    </tr>\n",
       "    <tr>\n",
       "      <th>2</th>\n",
       "      <td>1931-01-01</td>\n",
       "      <td>60.672</td>\n",
       "      <td>5.911</td>\n",
       "      <td>25.798</td>\n",
       "      <td>28.963</td>\n",
       "      <td>7.965</td>\n",
       "      <td>761.754</td>\n",
       "      <td>NaN</td>\n",
       "    </tr>\n",
       "    <tr>\n",
       "      <th>3</th>\n",
       "      <td>1932-01-01</td>\n",
       "      <td>48.714</td>\n",
       "      <td>3.959</td>\n",
       "      <td>20.169</td>\n",
       "      <td>24.587</td>\n",
       "      <td>7.024</td>\n",
       "      <td>693.556</td>\n",
       "      <td>NaN</td>\n",
       "    </tr>\n",
       "    <tr>\n",
       "      <th>4</th>\n",
       "      <td>1933-01-01</td>\n",
       "      <td>45.945</td>\n",
       "      <td>3.762</td>\n",
       "      <td>19.994</td>\n",
       "      <td>22.189</td>\n",
       "      <td>6.774</td>\n",
       "      <td>678.258</td>\n",
       "      <td>NaN</td>\n",
       "    </tr>\n",
       "    <tr>\n",
       "      <th>...</th>\n",
       "      <td>...</td>\n",
       "      <td>...</td>\n",
       "      <td>...</td>\n",
       "      <td>...</td>\n",
       "      <td>...</td>\n",
       "      <td>...</td>\n",
       "      <td>...</td>\n",
       "      <td>...</td>\n",
       "    </tr>\n",
       "    <tr>\n",
       "      <th>86</th>\n",
       "      <td>2015-01-01</td>\n",
       "      <td>12284.281</td>\n",
       "      <td>1305.897</td>\n",
       "      <td>2614.438</td>\n",
       "      <td>8363.946</td>\n",
       "      <td>103.045</td>\n",
       "      <td>11921.228</td>\n",
       "      <td>0.118627</td>\n",
       "    </tr>\n",
       "    <tr>\n",
       "      <th>87</th>\n",
       "      <td>2016-01-01</td>\n",
       "      <td>12748.483</td>\n",
       "      <td>1352.645</td>\n",
       "      <td>2643.260</td>\n",
       "      <td>8752.578</td>\n",
       "      <td>104.091</td>\n",
       "      <td>12247.469</td>\n",
       "      <td>1.261583</td>\n",
       "    </tr>\n",
       "    <tr>\n",
       "      <th>88</th>\n",
       "      <td>2017-01-01</td>\n",
       "      <td>13312.060</td>\n",
       "      <td>1412.570</td>\n",
       "      <td>2752.450</td>\n",
       "      <td>9147.041</td>\n",
       "      <td>105.929</td>\n",
       "      <td>12566.948</td>\n",
       "      <td>2.130110</td>\n",
       "    </tr>\n",
       "    <tr>\n",
       "      <th>89</th>\n",
       "      <td>2018-01-01</td>\n",
       "      <td>13998.666</td>\n",
       "      <td>1475.585</td>\n",
       "      <td>2889.199</td>\n",
       "      <td>9633.883</td>\n",
       "      <td>108.143</td>\n",
       "      <td>12944.550</td>\n",
       "      <td>2.442583</td>\n",
       "    </tr>\n",
       "    <tr>\n",
       "      <th>90</th>\n",
       "      <td>2019-01-01</td>\n",
       "      <td>14561.223</td>\n",
       "      <td>1526.649</td>\n",
       "      <td>2978.649</td>\n",
       "      <td>10055.924</td>\n",
       "      <td>109.654</td>\n",
       "      <td>13279.223</td>\n",
       "      <td>1.812210</td>\n",
       "    </tr>\n",
       "  </tbody>\n",
       "</table>\n",
       "<p>91 rows × 8 columns</p>\n",
       "</div>"
      ],
      "text/plain": [
       "         date      PCECA     PCDGA     PCNDA     PCESVA  DPCERD3A086NBEA  \\\n",
       "0  1929-01-01     77.382     9.829    33.941     33.613            9.314   \n",
       "1  1930-01-01     70.136     7.661    30.503     31.972            8.920   \n",
       "2  1931-01-01     60.672     5.911    25.798     28.963            7.965   \n",
       "3  1932-01-01     48.714     3.959    20.169     24.587            7.024   \n",
       "4  1933-01-01     45.945     3.762    19.994     22.189            6.774   \n",
       "..        ...        ...       ...       ...        ...              ...   \n",
       "86 2015-01-01  12284.281  1305.897  2614.438   8363.946          103.045   \n",
       "87 2016-01-01  12748.483  1352.645  2643.260   8752.578          104.091   \n",
       "88 2017-01-01  13312.060  1412.570  2752.450   9147.041          105.929   \n",
       "89 2018-01-01  13998.666  1475.585  2889.199   9633.883          108.143   \n",
       "90 2019-01-01  14561.223  1526.649  2978.649  10055.924          109.654   \n",
       "\n",
       "       PCECCA  inflation  \n",
       "0     830.819        NaN  \n",
       "1     786.314        NaN  \n",
       "2     761.754        NaN  \n",
       "3     693.556        NaN  \n",
       "4     678.258        NaN  \n",
       "..        ...        ...  \n",
       "86  11921.228   0.118627  \n",
       "87  12247.469   1.261583  \n",
       "88  12566.948   2.130110  \n",
       "89  12944.550   2.442583  \n",
       "90  13279.223   1.812210  \n",
       "\n",
       "[91 rows x 8 columns]"
      ]
     },
     "execution_count": 854,
     "metadata": {},
     "output_type": "execute_result"
    }
   ],
   "source": [
    "df"
   ]
  },
  {
   "cell_type": "code",
   "execution_count": 855,
   "metadata": {
    "hide_input": false
   },
   "outputs": [],
   "source": [
    "## Non Durables = Non Durables + services \n",
    "df['PCNDA'] = df['PCNDA'] + df['PCESVA']"
   ]
  },
  {
   "cell_type": "markdown",
   "metadata": {},
   "source": [
    "## $$\\frac{nominal~consumption}{real~comsuption}* 100 = consumption~deflator$$ "
   ]
  },
  {
   "cell_type": "code",
   "execution_count": 856,
   "metadata": {
    "hide_input": false
   },
   "outputs": [],
   "source": [
    "df['realPCDGA']  =  round(df['PCDGA']*100/df['DPCERD3A086NBEA'],3) \n",
    "df['realPCNDA']  = round(df['PCNDA']*100/df['DPCERD3A086NBEA'],3) \n",
    "df['realPCECA']  = round(df['PCECA']*100/df['DPCERD3A086NBEA'],3) "
   ]
  },
  {
   "cell_type": "code",
   "execution_count": 857,
   "metadata": {
    "hide_input": false
   },
   "outputs": [],
   "source": [
    "df['GrowthDGA'] = df['PCDGA'].pct_change()\n",
    "df['GrowthNDGA'] = df['PCNDA'].pct_change()\n",
    "df['GrowthPCECA'] = df['PCECA'].pct_change()\n",
    "df['GrowthrealDGA'] = df['realPCDGA'].pct_change()\n",
    "df['GrowthrealNDGA'] = df['realPCNDA'].pct_change()\n",
    "df['GrowthPCECCA'] = df['PCECCA'].pct_change()"
   ]
  },
  {
   "cell_type": "code",
   "execution_count": 858,
   "metadata": {
    "hide_input": true
   },
   "outputs": [],
   "source": [
    "df = df.drop(['PCESVA'], axis = 1)"
   ]
  },
  {
   "cell_type": "code",
   "execution_count": 859,
   "metadata": {
    "hide_input": true
   },
   "outputs": [
    {
     "data": {
      "text/html": [
       "<div>\n",
       "<style scoped>\n",
       "    .dataframe tbody tr th:only-of-type {\n",
       "        vertical-align: middle;\n",
       "    }\n",
       "\n",
       "    .dataframe tbody tr th {\n",
       "        vertical-align: top;\n",
       "    }\n",
       "\n",
       "    .dataframe thead th {\n",
       "        text-align: right;\n",
       "    }\n",
       "</style>\n",
       "<table border=\"1\" class=\"dataframe\">\n",
       "  <thead>\n",
       "    <tr style=\"text-align: right;\">\n",
       "      <th></th>\n",
       "      <th>date</th>\n",
       "      <th>PCECA</th>\n",
       "      <th>PCDGA</th>\n",
       "      <th>PCNDA</th>\n",
       "      <th>DPCERD3A086NBEA</th>\n",
       "      <th>PCECCA</th>\n",
       "      <th>inflation</th>\n",
       "      <th>realPCDGA</th>\n",
       "      <th>realPCNDA</th>\n",
       "      <th>realPCECA</th>\n",
       "      <th>GrowthDGA</th>\n",
       "      <th>GrowthNDGA</th>\n",
       "      <th>GrowthPCECA</th>\n",
       "      <th>GrowthrealDGA</th>\n",
       "      <th>GrowthrealNDGA</th>\n",
       "      <th>GrowthPCECCA</th>\n",
       "    </tr>\n",
       "  </thead>\n",
       "  <tbody>\n",
       "    <tr>\n",
       "      <th>0</th>\n",
       "      <td>1929-01-01</td>\n",
       "      <td>77.382</td>\n",
       "      <td>9.829</td>\n",
       "      <td>67.554</td>\n",
       "      <td>9.314</td>\n",
       "      <td>830.819</td>\n",
       "      <td>NaN</td>\n",
       "      <td>105.529</td>\n",
       "      <td>725.295</td>\n",
       "      <td>830.814</td>\n",
       "      <td>NaN</td>\n",
       "      <td>NaN</td>\n",
       "      <td>NaN</td>\n",
       "      <td>NaN</td>\n",
       "      <td>NaN</td>\n",
       "      <td>NaN</td>\n",
       "    </tr>\n",
       "    <tr>\n",
       "      <th>1</th>\n",
       "      <td>1930-01-01</td>\n",
       "      <td>70.136</td>\n",
       "      <td>7.661</td>\n",
       "      <td>62.475</td>\n",
       "      <td>8.920</td>\n",
       "      <td>786.314</td>\n",
       "      <td>NaN</td>\n",
       "      <td>85.886</td>\n",
       "      <td>700.392</td>\n",
       "      <td>786.278</td>\n",
       "      <td>-0.220572</td>\n",
       "      <td>-0.075184</td>\n",
       "      <td>-0.093639</td>\n",
       "      <td>-0.186138</td>\n",
       "      <td>-0.034335</td>\n",
       "      <td>-0.053568</td>\n",
       "    </tr>\n",
       "    <tr>\n",
       "      <th>2</th>\n",
       "      <td>1931-01-01</td>\n",
       "      <td>60.672</td>\n",
       "      <td>5.911</td>\n",
       "      <td>54.761</td>\n",
       "      <td>7.965</td>\n",
       "      <td>761.754</td>\n",
       "      <td>NaN</td>\n",
       "      <td>74.212</td>\n",
       "      <td>687.520</td>\n",
       "      <td>761.733</td>\n",
       "      <td>-0.228430</td>\n",
       "      <td>-0.123473</td>\n",
       "      <td>-0.134938</td>\n",
       "      <td>-0.135924</td>\n",
       "      <td>-0.018378</td>\n",
       "      <td>-0.031234</td>\n",
       "    </tr>\n",
       "    <tr>\n",
       "      <th>3</th>\n",
       "      <td>1932-01-01</td>\n",
       "      <td>48.714</td>\n",
       "      <td>3.959</td>\n",
       "      <td>44.756</td>\n",
       "      <td>7.024</td>\n",
       "      <td>693.556</td>\n",
       "      <td>NaN</td>\n",
       "      <td>56.364</td>\n",
       "      <td>637.187</td>\n",
       "      <td>693.536</td>\n",
       "      <td>-0.330232</td>\n",
       "      <td>-0.182703</td>\n",
       "      <td>-0.197093</td>\n",
       "      <td>-0.240500</td>\n",
       "      <td>-0.073210</td>\n",
       "      <td>-0.089528</td>\n",
       "    </tr>\n",
       "    <tr>\n",
       "      <th>4</th>\n",
       "      <td>1933-01-01</td>\n",
       "      <td>45.945</td>\n",
       "      <td>3.762</td>\n",
       "      <td>42.183</td>\n",
       "      <td>6.774</td>\n",
       "      <td>678.258</td>\n",
       "      <td>NaN</td>\n",
       "      <td>55.536</td>\n",
       "      <td>622.719</td>\n",
       "      <td>678.255</td>\n",
       "      <td>-0.049760</td>\n",
       "      <td>-0.057489</td>\n",
       "      <td>-0.056842</td>\n",
       "      <td>-0.014690</td>\n",
       "      <td>-0.022706</td>\n",
       "      <td>-0.022057</td>\n",
       "    </tr>\n",
       "    <tr>\n",
       "      <th>...</th>\n",
       "      <td>...</td>\n",
       "      <td>...</td>\n",
       "      <td>...</td>\n",
       "      <td>...</td>\n",
       "      <td>...</td>\n",
       "      <td>...</td>\n",
       "      <td>...</td>\n",
       "      <td>...</td>\n",
       "      <td>...</td>\n",
       "      <td>...</td>\n",
       "      <td>...</td>\n",
       "      <td>...</td>\n",
       "      <td>...</td>\n",
       "      <td>...</td>\n",
       "      <td>...</td>\n",
       "      <td>...</td>\n",
       "    </tr>\n",
       "    <tr>\n",
       "      <th>86</th>\n",
       "      <td>2015-01-01</td>\n",
       "      <td>12284.281</td>\n",
       "      <td>1305.897</td>\n",
       "      <td>10978.384</td>\n",
       "      <td>103.045</td>\n",
       "      <td>11921.228</td>\n",
       "      <td>0.118627</td>\n",
       "      <td>1267.307</td>\n",
       "      <td>10653.971</td>\n",
       "      <td>11921.278</td>\n",
       "      <td>0.051383</td>\n",
       "      <td>0.037588</td>\n",
       "      <td>0.039037</td>\n",
       "      <td>0.049189</td>\n",
       "      <td>0.035423</td>\n",
       "      <td>0.036862</td>\n",
       "    </tr>\n",
       "    <tr>\n",
       "      <th>87</th>\n",
       "      <td>2016-01-01</td>\n",
       "      <td>12748.483</td>\n",
       "      <td>1352.645</td>\n",
       "      <td>11395.838</td>\n",
       "      <td>104.091</td>\n",
       "      <td>12247.469</td>\n",
       "      <td>1.261583</td>\n",
       "      <td>1299.483</td>\n",
       "      <td>10947.957</td>\n",
       "      <td>12247.440</td>\n",
       "      <td>0.035798</td>\n",
       "      <td>0.038025</td>\n",
       "      <td>0.037788</td>\n",
       "      <td>0.025389</td>\n",
       "      <td>0.027594</td>\n",
       "      <td>0.027366</td>\n",
       "    </tr>\n",
       "    <tr>\n",
       "      <th>88</th>\n",
       "      <td>2017-01-01</td>\n",
       "      <td>13312.060</td>\n",
       "      <td>1412.570</td>\n",
       "      <td>11899.491</td>\n",
       "      <td>105.929</td>\n",
       "      <td>12566.948</td>\n",
       "      <td>2.130110</td>\n",
       "      <td>1333.506</td>\n",
       "      <td>11233.459</td>\n",
       "      <td>12566.965</td>\n",
       "      <td>0.044302</td>\n",
       "      <td>0.044196</td>\n",
       "      <td>0.044207</td>\n",
       "      <td>0.026182</td>\n",
       "      <td>0.026078</td>\n",
       "      <td>0.026085</td>\n",
       "    </tr>\n",
       "    <tr>\n",
       "      <th>89</th>\n",
       "      <td>2018-01-01</td>\n",
       "      <td>13998.666</td>\n",
       "      <td>1475.585</td>\n",
       "      <td>12523.082</td>\n",
       "      <td>108.143</td>\n",
       "      <td>12944.550</td>\n",
       "      <td>2.442583</td>\n",
       "      <td>1364.476</td>\n",
       "      <td>11580.113</td>\n",
       "      <td>12944.588</td>\n",
       "      <td>0.044610</td>\n",
       "      <td>0.052405</td>\n",
       "      <td>0.051578</td>\n",
       "      <td>0.023224</td>\n",
       "      <td>0.030859</td>\n",
       "      <td>0.030047</td>\n",
       "    </tr>\n",
       "    <tr>\n",
       "      <th>90</th>\n",
       "      <td>2019-01-01</td>\n",
       "      <td>14561.223</td>\n",
       "      <td>1526.649</td>\n",
       "      <td>13034.573</td>\n",
       "      <td>109.654</td>\n",
       "      <td>13279.223</td>\n",
       "      <td>1.812210</td>\n",
       "      <td>1392.242</td>\n",
       "      <td>11887.002</td>\n",
       "      <td>13279.245</td>\n",
       "      <td>0.034606</td>\n",
       "      <td>0.040844</td>\n",
       "      <td>0.040186</td>\n",
       "      <td>0.020349</td>\n",
       "      <td>0.026501</td>\n",
       "      <td>0.025854</td>\n",
       "    </tr>\n",
       "  </tbody>\n",
       "</table>\n",
       "<p>91 rows × 16 columns</p>\n",
       "</div>"
      ],
      "text/plain": [
       "         date      PCECA     PCDGA      PCNDA  DPCERD3A086NBEA     PCECCA  \\\n",
       "0  1929-01-01     77.382     9.829     67.554            9.314    830.819   \n",
       "1  1930-01-01     70.136     7.661     62.475            8.920    786.314   \n",
       "2  1931-01-01     60.672     5.911     54.761            7.965    761.754   \n",
       "3  1932-01-01     48.714     3.959     44.756            7.024    693.556   \n",
       "4  1933-01-01     45.945     3.762     42.183            6.774    678.258   \n",
       "..        ...        ...       ...        ...              ...        ...   \n",
       "86 2015-01-01  12284.281  1305.897  10978.384          103.045  11921.228   \n",
       "87 2016-01-01  12748.483  1352.645  11395.838          104.091  12247.469   \n",
       "88 2017-01-01  13312.060  1412.570  11899.491          105.929  12566.948   \n",
       "89 2018-01-01  13998.666  1475.585  12523.082          108.143  12944.550   \n",
       "90 2019-01-01  14561.223  1526.649  13034.573          109.654  13279.223   \n",
       "\n",
       "    inflation  realPCDGA  realPCNDA  realPCECA  GrowthDGA  GrowthNDGA  \\\n",
       "0         NaN    105.529    725.295    830.814        NaN         NaN   \n",
       "1         NaN     85.886    700.392    786.278  -0.220572   -0.075184   \n",
       "2         NaN     74.212    687.520    761.733  -0.228430   -0.123473   \n",
       "3         NaN     56.364    637.187    693.536  -0.330232   -0.182703   \n",
       "4         NaN     55.536    622.719    678.255  -0.049760   -0.057489   \n",
       "..        ...        ...        ...        ...        ...         ...   \n",
       "86   0.118627   1267.307  10653.971  11921.278   0.051383    0.037588   \n",
       "87   1.261583   1299.483  10947.957  12247.440   0.035798    0.038025   \n",
       "88   2.130110   1333.506  11233.459  12566.965   0.044302    0.044196   \n",
       "89   2.442583   1364.476  11580.113  12944.588   0.044610    0.052405   \n",
       "90   1.812210   1392.242  11887.002  13279.245   0.034606    0.040844   \n",
       "\n",
       "    GrowthPCECA  GrowthrealDGA  GrowthrealNDGA  GrowthPCECCA  \n",
       "0           NaN            NaN             NaN           NaN  \n",
       "1     -0.093639      -0.186138       -0.034335     -0.053568  \n",
       "2     -0.134938      -0.135924       -0.018378     -0.031234  \n",
       "3     -0.197093      -0.240500       -0.073210     -0.089528  \n",
       "4     -0.056842      -0.014690       -0.022706     -0.022057  \n",
       "..          ...            ...             ...           ...  \n",
       "86     0.039037       0.049189        0.035423      0.036862  \n",
       "87     0.037788       0.025389        0.027594      0.027366  \n",
       "88     0.044207       0.026182        0.026078      0.026085  \n",
       "89     0.051578       0.023224        0.030859      0.030047  \n",
       "90     0.040186       0.020349        0.026501      0.025854  \n",
       "\n",
       "[91 rows x 16 columns]"
      ]
     },
     "execution_count": 859,
     "metadata": {},
     "output_type": "execute_result"
    }
   ],
   "source": [
    "df"
   ]
  },
  {
   "cell_type": "markdown",
   "metadata": {},
   "source": [
    "## yes the volatility of durable comsuption growth is higher than non durable consumption"
   ]
  },
  {
   "cell_type": "markdown",
   "metadata": {
    "hide_input": false
   },
   "source": [
    "###  traditionally economists focused only non-durables and services consumption be cause durables consumption is not a good indicator of consumption growth."
   ]
  },
  {
   "cell_type": "code",
   "execution_count": 860,
   "metadata": {
    "hide_input": false
   },
   "outputs": [
    {
     "name": "stdout",
     "output_type": "stream",
     "text": [
      "Aveage real Growth rate Durable goods: 0.03562992760849151\n",
      "Aveage real Growth rate Non - Durable goods: 0.03179562628584967\n",
      "Aveage real Growth rate Aggregate: 0.03169135867429376\n"
     ]
    }
   ],
   "source": [
    "print('Aveage real Growth rate Durable goods: {}'.format(df['GrowthrealDGA'].mean()))\n",
    "print('Aveage real Growth rate Non - Durable goods: {}'.format(df['GrowthrealNDGA'].mean()))\n",
    "print('Aveage real Growth rate Aggregate: {}'.format(df['GrowthPCECCA'].mean()))"
   ]
  },
  {
   "cell_type": "code",
   "execution_count": 861,
   "metadata": {
    "hide_input": true
   },
   "outputs": [
    {
     "name": "stdout",
     "output_type": "stream",
     "text": [
      "Aveage Nominal Growth rate Durable goods: 0.0655472436150362\n",
      "Aveage Nominal Growth rate Non - Durable goods: 0.06143327046421832\n",
      "Aveage Nominal Growth rate Aggregate: 0.06131661854453426\n"
     ]
    }
   ],
   "source": [
    "print('Aveage Nominal Growth rate Durable goods: {}'.format(df['GrowthDGA'].mean()))\n",
    "print('Aveage Nominal Growth rate Non - Durable goods: {}'.format(df['GrowthNDGA'].mean()))\n",
    "print('Aveage Nominal Growth rate Aggregate: {}'.format(df['GrowthPCECA'].mean()))"
   ]
  },
  {
   "cell_type": "code",
   "execution_count": 862,
   "metadata": {
    "hide_input": true
   },
   "outputs": [
    {
     "name": "stdout",
     "output_type": "stream",
     "text": [
      "Volatility real Growth rate Durable goods: 0.014740284316425597\n",
      "Volatility real Growth rate Non - Durable goods: 0.0004771754871658756\n",
      "Volatility real Growth rate Aggregate: 0.0008559631402137027\n"
     ]
    }
   ],
   "source": [
    "print('Volatility real Growth rate Durable goods: {}'.format(df['GrowthrealDGA'].std()**2))\n",
    "print('Volatility real Growth rate Non - Durable goods: {}'.format(df['GrowthrealNDGA'].std()**2))\n",
    "print('Volatility real Growth rate Aggregate: {}'.format(df['GrowthPCECCA'].std()**2))"
   ]
  },
  {
   "cell_type": "code",
   "execution_count": 863,
   "metadata": {
    "hide_input": true
   },
   "outputs": [
    {
     "name": "stdout",
     "output_type": "stream",
     "text": [
      "Volatility Nominal Growth rate Durable goods: 0.018177174574187955\n",
      "Volatility Nominal Growth rate Non - Durable goods: 0.00242480847527352\n",
      "Volatility Nominal Growth rate Aggregate: 0.0027698787929300727\n"
     ]
    }
   ],
   "source": [
    "print('Volatility Nominal Growth rate Durable goods: {}'.format(df['GrowthDGA'].std()**2))\n",
    "print('Volatility Nominal Growth rate Non - Durable goods: {}'.format(df['GrowthNDGA'].std()**2))\n",
    "print('Volatility Nominal Growth rate Aggregate: {}'.format(df['GrowthPCECA'].std()**2))"
   ]
  },
  {
   "cell_type": "code",
   "execution_count": 864,
   "metadata": {
    "hide_input": true
   },
   "outputs": [
    {
     "name": "stdout",
     "output_type": "stream",
     "text": [
      "Auto-correlation real Growth rate Durable goods: 0.2575499916989862\n",
      "Auto-correlation real Growth rate Non - Durable goods: 0.49195240309966054\n",
      "Auto-correlation real Growth rate Aggregate: 0.37641484563581623\n"
     ]
    }
   ],
   "source": [
    "print('Auto-correlation real Growth rate Durable goods: {}'.format(df['GrowthrealDGA'].autocorr()))\n",
    "print('Auto-correlation real Growth rate Non - Durable goods: {}'.format(df['GrowthrealNDGA'].autocorr()))\n",
    "print('Auto-correlation real Growth rate Aggregate: {}'.format(df['GrowthPCECCA'].autocorr()))"
   ]
  },
  {
   "cell_type": "code",
   "execution_count": 865,
   "metadata": {
    "hide_input": true
   },
   "outputs": [
    {
     "name": "stdout",
     "output_type": "stream",
     "text": [
      "Auto-correlation Nominal Growth rate Durable goods: 0.3457682721416485\n",
      "Auto-correlation Nominal Growth rate Non - Durable goods: 0.7476925265384459\n",
      "Auto-correlation Nominal Growth rate Aggregate: 0.7030195867748166\n"
     ]
    }
   ],
   "source": [
    "print('Auto-correlation Nominal Growth rate Durable goods: {}'.format(df['GrowthDGA'].autocorr()))\n",
    "print('Auto-correlation Nominal Growth rate Non - Durable goods: {}'.format(df['GrowthNDGA'].autocorr()))\n",
    "print('Auto-correlation Nominal Growth rate Aggregate: {}'.format(df['GrowthPCECA'].autocorr()))"
   ]
  },
  {
   "cell_type": "code",
   "execution_count": 866,
   "metadata": {
    "hide_input": true
   },
   "outputs": [
    {
     "data": {
      "text/plain": [
       "<matplotlib.axes._subplots.AxesSubplot at 0x1371cb968c8>"
      ]
     },
     "execution_count": 866,
     "metadata": {},
     "output_type": "execute_result"
    },
    {
     "data": {
      "image/png": "[encoded data removed]",
      "text/plain": [
       "<Figure size 1080x576 with 1 Axes>"
      ]
     },
     "metadata": {
      "needs_background": "light"
     },
     "output_type": "display_data"
    }
   ],
   "source": [
    "plt.rcParams[\"figure.figsize\"] = (15,8)\n",
    "df[['GrowthrealDGA','GrowthrealNDGA','GrowthPCECCA']].plot()"
   ]
  },
  {
   "cell_type": "code",
   "execution_count": 867,
   "metadata": {
    "hide_input": true
   },
   "outputs": [
    {
     "data": {
      "text/plain": [
       "<matplotlib.axes._subplots.AxesSubplot at 0x1371cc49608>"
      ]
     },
     "execution_count": 867,
     "metadata": {},
     "output_type": "execute_result"
    },
    {
     "data": {
      "image/png": "[encoded data removed]",
      "text/plain": [
       "<Figure size 1080x576 with 1 Axes>"
      ]
     },
     "metadata": {
      "needs_background": "light"
     },
     "output_type": "display_data"
    }
   ],
   "source": [
    "df[['GrowthDGA','GrowthNDGA','GrowthPCECA']].plot()"
   ]
  },
  {
   "cell_type": "code",
   "execution_count": 868,
   "metadata": {
    "hide_input": false
   },
   "outputs": [
    {
     "data": {
      "text/html": [
       "<div>\n",
       "<style scoped>\n",
       "    .dataframe tbody tr th:only-of-type {\n",
       "        vertical-align: middle;\n",
       "    }\n",
       "\n",
       "    .dataframe tbody tr th {\n",
       "        vertical-align: top;\n",
       "    }\n",
       "\n",
       "    .dataframe thead th {\n",
       "        text-align: right;\n",
       "    }\n",
       "</style>\n",
       "<table border=\"1\" class=\"dataframe\">\n",
       "  <thead>\n",
       "    <tr style=\"text-align: right;\">\n",
       "      <th></th>\n",
       "      <th>GrowthrealDGA</th>\n",
       "      <th>GrowthrealNDGA</th>\n",
       "    </tr>\n",
       "  </thead>\n",
       "  <tbody>\n",
       "    <tr>\n",
       "      <th>GrowthrealDGA</th>\n",
       "      <td>1.000000</td>\n",
       "      <td>0.625396</td>\n",
       "    </tr>\n",
       "    <tr>\n",
       "      <th>GrowthrealNDGA</th>\n",
       "      <td>0.625396</td>\n",
       "      <td>1.000000</td>\n",
       "    </tr>\n",
       "  </tbody>\n",
       "</table>\n",
       "</div>"
      ],
      "text/plain": [
       "                GrowthrealDGA  GrowthrealNDGA\n",
       "GrowthrealDGA        1.000000        0.625396\n",
       "GrowthrealNDGA       0.625396        1.000000"
      ]
     },
     "execution_count": 868,
     "metadata": {},
     "output_type": "execute_result"
    }
   ],
   "source": [
    "df[['GrowthrealDGA','GrowthrealNDGA']].corr()"
   ]
  },
  {
   "cell_type": "code",
   "execution_count": 869,
   "metadata": {
    "hide_input": true
   },
   "outputs": [
    {
     "name": "stdout",
     "output_type": "stream",
     "text": [
      "The correlatioin between Durable and non-durable assets is 0.6253956866673954\n"
     ]
    }
   ],
   "source": [
    "print(\"The correlatioin between Durable and non-durable assets is {}\".format(df[['GrowthrealDGA','GrowthrealNDGA']].corr().iloc[0][1]))"
   ]
  },
  {
   "cell_type": "code",
   "execution_count": 870,
   "metadata": {},
   "outputs": [
    {
     "data": {
      "text/html": [
       "<div>\n",
       "<style scoped>\n",
       "    .dataframe tbody tr th:only-of-type {\n",
       "        vertical-align: middle;\n",
       "    }\n",
       "\n",
       "    .dataframe tbody tr th {\n",
       "        vertical-align: top;\n",
       "    }\n",
       "\n",
       "    .dataframe thead th {\n",
       "        text-align: right;\n",
       "    }\n",
       "</style>\n",
       "<table border=\"1\" class=\"dataframe\">\n",
       "  <thead>\n",
       "    <tr style=\"text-align: right;\">\n",
       "      <th></th>\n",
       "      <th>GrowthPCECCA</th>\n",
       "      <th>inflation</th>\n",
       "    </tr>\n",
       "  </thead>\n",
       "  <tbody>\n",
       "    <tr>\n",
       "      <th>GrowthPCECCA</th>\n",
       "      <td>1.000000</td>\n",
       "      <td>-0.268355</td>\n",
       "    </tr>\n",
       "    <tr>\n",
       "      <th>inflation</th>\n",
       "      <td>-0.268355</td>\n",
       "      <td>1.000000</td>\n",
       "    </tr>\n",
       "  </tbody>\n",
       "</table>\n",
       "</div>"
      ],
      "text/plain": [
       "              GrowthPCECCA  inflation\n",
       "GrowthPCECCA      1.000000  -0.268355\n",
       "inflation        -0.268355   1.000000"
      ]
     },
     "execution_count": 870,
     "metadata": {},
     "output_type": "execute_result"
    }
   ],
   "source": [
    "df[['GrowthPCECCA','inflation']].corr()"
   ]
  },
  {
   "cell_type": "code",
   "execution_count": 871,
   "metadata": {
    "hide_input": true
   },
   "outputs": [
    {
     "name": "stdout",
     "output_type": "stream",
     "text": [
      "The correlatioin between real consumption  growth and inflation assets is -0.2683548333128916\n"
     ]
    }
   ],
   "source": [
    "print(\"The correlatioin between real consumption  growth and inflation assets is {}\".format(df[['GrowthPCECCA','inflation']].corr().iloc[0][1]))"
   ]
  },
  {
   "cell_type": "markdown",
   "metadata": {},
   "source": [
    "### inflation is risky for the investor because he/she would consume more since the correlation is negative "
   ]
  },
  {
   "cell_type": "markdown",
   "metadata": {},
   "source": [
    "### yes infation is more relevant risk for non durables"
   ]
  },
  {
   "cell_type": "code",
   "execution_count": 901,
   "metadata": {},
   "outputs": [],
   "source": [
    "consumptionGrowth = df['GrowthPCECCA'].dropna().values"
   ]
  },
  {
   "cell_type": "markdown",
   "metadata": {},
   "source": [
    "## $$m(\\gamma) = \\beta e^{-\\gamma g_c}$$"
   ]
  },
  {
   "cell_type": "code",
   "execution_count": 902,
   "metadata": {},
   "outputs": [],
   "source": [
    "beta = 0.99"
   ]
  },
  {
   "cell_type": "code",
   "execution_count": 903,
   "metadata": {},
   "outputs": [],
   "source": [
    "m_1 = beta* np.exp(-1*consumptionGrowth*1)\n",
    "m_2 = beta* np.exp(-1*consumptionGrowth*2)\n",
    "m_5 = beta* np.exp(-1*consumptionGrowth*5)\n",
    "m_10 = beta* np.exp(-1*consumptionGrowth*10)"
   ]
  },
  {
   "cell_type": "code",
   "execution_count": 904,
   "metadata": {
    "hide_input": true
   },
   "outputs": [
    {
     "data": {
      "text/plain": [
       "Text(0, 0.5, 'SDF')"
      ]
     },
     "execution_count": 904,
     "metadata": {},
     "output_type": "execute_result"
    },
    {
     "data": {
      "image/png": "[encoded data removed]",
      "text/plain": [
       "<Figure size 1080x576 with 1 Axes>"
      ]
     },
     "metadata": {
      "needs_background": "light"
     },
     "output_type": "display_data"
    }
   ],
   "source": [
    "plt.plot(m_1)\n",
    "plt.plot(m_2)\n",
    "plt.plot(m_5)\n",
    "plt.plot(m_10)\n",
    "plt.legend(['$\\gamma$ = 1','$\\gamma$ = 2','$\\gamma$ = 5','$\\gamma$ = 10'])\n",
    "plt.title('SDF for each $\\gamma$')\n",
    "plt.ylabel('SDF')"
   ]
  },
  {
   "cell_type": "markdown",
   "metadata": {},
   "source": [
    "## mean and variance of  $m(\\gamma)$"
   ]
  },
  {
   "cell_type": "code",
   "execution_count": 905,
   "metadata": {},
   "outputs": [],
   "source": [
    "mean_m1 = np.mean(m_1)\n",
    "mean_m2 = np.mean(m_2)\n",
    "mean_m5 = np.mean(m_5)\n",
    "mean_m10 = np.mean(m_10)"
   ]
  },
  {
   "cell_type": "code",
   "execution_count": 906,
   "metadata": {},
   "outputs": [],
   "source": [
    "var_m1 = np.var(m_1)\n",
    "var_m2 = np.var(m_2)\n",
    "var_m5 = np.var(m_5)\n",
    "var_m10 = np.var(m_10)"
   ]
  },
  {
   "cell_type": "markdown",
   "metadata": {},
   "source": [
    "## price of risk $\\Phi$"
   ]
  },
  {
   "cell_type": "code",
   "execution_count": 907,
   "metadata": {},
   "outputs": [],
   "source": [
    "phi_1 = var_m1/mean_m1\n",
    "phi_2 = var_m2/mean_m2\n",
    "phi_5 = var_m5/mean_m5\n",
    "phi_10 = var_m10/mean_m10"
   ]
  },
  {
   "cell_type": "code",
   "execution_count": 908,
   "metadata": {},
   "outputs": [
    {
     "data": {
      "text/plain": [
       "0.0008326569376993531"
      ]
     },
     "execution_count": 908,
     "metadata": {},
     "output_type": "execute_result"
    }
   ],
   "source": [
    "phi_1"
   ]
  },
  {
   "cell_type": "code",
   "execution_count": 909,
   "metadata": {},
   "outputs": [
    {
     "data": {
      "text/plain": [
       "0.0033254864061376954"
      ]
     },
     "execution_count": 909,
     "metadata": {},
     "output_type": "execute_result"
    }
   ],
   "source": [
    "phi_2"
   ]
  },
  {
   "cell_type": "code",
   "execution_count": 910,
   "metadata": {},
   "outputs": [
    {
     "data": {
      "text/plain": [
       "0.021303015591108473"
      ]
     },
     "execution_count": 910,
     "metadata": {},
     "output_type": "execute_result"
    }
   ],
   "source": [
    "phi_5"
   ]
  },
  {
   "cell_type": "code",
   "execution_count": 911,
   "metadata": {},
   "outputs": [
    {
     "data": {
      "text/plain": [
       "0.09785568700639038"
      ]
     },
     "execution_count": 911,
     "metadata": {},
     "output_type": "execute_result"
    }
   ],
   "source": [
    "phi_10"
   ]
  },
  {
   "cell_type": "markdown",
   "metadata": {},
   "source": [
    "## variance in growth $\\sigma_c$"
   ]
  },
  {
   "cell_type": "code",
   "execution_count": 912,
   "metadata": {},
   "outputs": [],
   "source": [
    "sigma_c = np.var(consumptionGrowth)"
   ]
  },
  {
   "cell_type": "markdown",
   "metadata": {},
   "source": [
    "## $$m_{t+1} = \\beta(\\frac{c_{t+1}}{c_t}) = \\beta e^{-\\gamma\\ln(\\frac{c_{t+1}}{c_t})} = \\beta e^{-\\gamma}g_{ct+1} $$\n",
    "\n",
    "## $$E_t(m_{t+1}) = \\beta e^{-\\gamma\\mu_c+\\frac{\\gamma^2\\sigma^2}{2}}, E_t(m_{t+1}^2) = \\beta^2e^{-2\\gamma\\mu_c+2\\gamma^2\\sigma_c^2} $$\n",
    "\n",
    "## $$\\frac{\\sigma_t^2(m_{t+1})}{E_t(m_{t+1})^2} = \\frac{E(m_{t+1}^2)}{[E(m_{t+1})]^2} - \\frac{E(m_{t+1})^2}{[E(m_{t+1})]^2} = \\frac{\\beta^2e^{-2\\gamma\\mu_c+2\\gamma^2\\sigma_c^2}}{\\beta^2e^{-2\\gamma\\mu_c+\\gamma^2\\sigma_c^2}}-1$$\n",
    "\n",
    "## $$= e^{\\gamma^2\\sigma_c^2} - 1 \\approx \\gamma^2\\sigma_{c}$$ \n",
    "\n",
    "## $\\implies$ $$ \\frac{\\sigma(m_{t+1})}{E_t(m_{t+1})} \\approx \\gamma\\sigma_{c} $$"
   ]
  },
  {
   "cell_type": "markdown",
   "metadata": {},
   "source": [
    "## price of risk $ \\frac{\\sigma(m_{t+1})}{E_t(m_{t+1})}, \\hat{\\phi}$"
   ]
  },
  {
   "cell_type": "code",
   "execution_count": 913,
   "metadata": {},
   "outputs": [],
   "source": [
    "phi_hat_1 = 1 * sigma_c\n",
    "phi_hat_2 = 2 * sigma_c\n",
    "phi_hat_5 = 5 * sigma_c\n",
    "phi_hat_10 = 10 * sigma_c"
   ]
  },
  {
   "cell_type": "code",
   "execution_count": 914,
   "metadata": {},
   "outputs": [
    {
     "data": {
      "text/plain": [
       "0.0008464524386557729"
      ]
     },
     "execution_count": 914,
     "metadata": {},
     "output_type": "execute_result"
    }
   ],
   "source": [
    "phi_hat_1"
   ]
  },
  {
   "cell_type": "code",
   "execution_count": 915,
   "metadata": {},
   "outputs": [
    {
     "data": {
      "text/plain": [
       "0.0016929048773115457"
      ]
     },
     "execution_count": 915,
     "metadata": {},
     "output_type": "execute_result"
    }
   ],
   "source": [
    "phi_hat_2"
   ]
  },
  {
   "cell_type": "code",
   "execution_count": 916,
   "metadata": {},
   "outputs": [
    {
     "data": {
      "text/plain": [
       "0.004232262193278864"
      ]
     },
     "execution_count": 916,
     "metadata": {},
     "output_type": "execute_result"
    }
   ],
   "source": [
    "phi_hat_5"
   ]
  },
  {
   "cell_type": "code",
   "execution_count": 917,
   "metadata": {},
   "outputs": [
    {
     "data": {
      "text/plain": [
       "0.008464524386557728"
      ]
     },
     "execution_count": 917,
     "metadata": {},
     "output_type": "execute_result"
    }
   ],
   "source": [
    "phi_hat_10"
   ]
  },
  {
   "cell_type": "markdown",
   "metadata": {},
   "source": [
    "## $\\phi ~and~ \\hat\\phi$ match for $\\gamma$ = 1"
   ]
  },
  {
   "cell_type": "markdown",
   "metadata": {},
   "source": [
    "## $$Sharpe~ratio(USA) = 0.42 = \\frac{|E(r^e)|}{\\sigma(r^e)} < \\frac{\\sigma(m)}{E(m)}$$"
   ]
  },
  {
   "cell_type": "code",
   "execution_count": 918,
   "metadata": {},
   "outputs": [
    {
     "name": "stdout",
     "output_type": "stream",
     "text": [
      "phi(1): 0.0008326569376993531 ,phi(2): 0.0033254864061376954 , phi(5): 0.021303015591108473 , phi(10): 0.09785568700639038 \n"
     ]
    }
   ],
   "source": [
    "print(\"phi(1): {} ,phi(2): {} , phi(5): {} , phi(10): {} \".format(phi_1,phi_2,phi_5,phi_10))"
   ]
  },
  {
   "cell_type": "markdown",
   "metadata": {},
   "source": [
    "## No the generated $m_t$ does not satisfy the HJ bound for any $\\gamma$"
   ]
  },
  {
   "cell_type": "markdown",
   "metadata": {},
   "source": [
    "## $$R_f = \\frac{1}{E[m(\\gamma)]}$$"
   ]
  },
  {
   "cell_type": "code",
   "execution_count": 919,
   "metadata": {},
   "outputs": [],
   "source": [
    "R_f1 = 1/mean_m1\n",
    "R_f2 = 1/mean_m2\n",
    "R_f5 = 1/mean_m5\n",
    "R_f10 = 1/mean_m10"
   ]
  },
  {
   "cell_type": "code",
   "execution_count": 920,
   "metadata": {},
   "outputs": [
    {
     "data": {
      "text/plain": [
       "0.04218047255762003"
      ]
     },
     "execution_count": 920,
     "metadata": {},
     "output_type": "execute_result"
    }
   ],
   "source": [
    "R_f1-1"
   ]
  },
  {
   "cell_type": "markdown",
   "metadata": {},
   "source": [
    "## $\\lambda = 2$ matches approximately to risk free rat of 0.72(USA)"
   ]
  },
  {
   "cell_type": "code",
   "execution_count": 921,
   "metadata": {},
   "outputs": [
    {
     "data": {
      "text/plain": [
       "0.07434644094044662"
      ]
     },
     "execution_count": 921,
     "metadata": {},
     "output_type": "execute_result"
    }
   ],
   "source": [
    "R_f2-1"
   ]
  },
  {
   "cell_type": "code",
   "execution_count": 922,
   "metadata": {},
   "outputs": [
    {
     "data": {
      "text/plain": [
       "0.17052357856798683"
      ]
     },
     "execution_count": 922,
     "metadata": {},
     "output_type": "execute_result"
    }
   ],
   "source": [
    "R_f5-1"
   ]
  },
  {
   "cell_type": "code",
   "execution_count": 923,
   "metadata": {},
   "outputs": [
    {
     "data": {
      "text/plain": [
       "0.32342372040233824"
      ]
     },
     "execution_count": 923,
     "metadata": {},
     "output_type": "execute_result"
    }
   ],
   "source": [
    "R_f10-1"
   ]
  },
  {
   "cell_type": "markdown",
   "metadata": {},
   "source": [
    "## Equity Premium puzzle"
   ]
  },
  {
   "cell_type": "markdown",
   "metadata": {},
   "source": [
    "## for HJ bound to satify, $\\gamma$ has to be very high and it does not make sense to give up half of your wealth to protect yourself against loss of 10 %"
   ]
  },
  {
   "cell_type": "markdown",
   "metadata": {},
   "source": [
    "$$$$"
   ]
  },
  {
   "cell_type": "markdown",
   "metadata": {},
   "source": [
    "$$$$"
   ]
  },
  {
   "cell_type": "markdown",
   "metadata": {},
   "source": [
    "$$$$"
   ]
  },
  {
   "cell_type": "markdown",
   "metadata": {},
   "source": [
    "$$$$"
   ]
  },
  {
   "cell_type": "markdown",
   "metadata": {},
   "source": [
    "# Problem4"
   ]
  },
  {
   "cell_type": "markdown",
   "metadata": {},
   "source": [
    "## Data"
   ]
  },
  {
   "cell_type": "code",
   "execution_count": 924,
   "metadata": {
    "hide_input": true
   },
   "outputs": [],
   "source": [
    "import statsmodels.api as sm"
   ]
  },
  {
   "cell_type": "code",
   "execution_count": 925,
   "metadata": {},
   "outputs": [],
   "source": [
    "data = pd.read_csv(\"F_F.csv\")"
   ]
  },
  {
   "cell_type": "code",
   "execution_count": 926,
   "metadata": {},
   "outputs": [],
   "source": [
    "dates = data['date'].values\n",
    "factors = data[['Mkt-RF', 'SMB', 'HML']].values\n",
    "riskfree = data['RF'].values\n",
    "portfolios = data.iloc[:, 5:].values\n",
    "\n",
    "\n",
    "factors = np.mat(factors)\n",
    "riskfree = np.mat(riskfree)\n",
    "portfolios = np.mat(portfolios)\n",
    "\n",
    "\n",
    "T,K = factors.shape\n",
    "T,N = portfolios.shape\n",
    "riskfree.shape = T,1\n",
    "excessReturns = portfolios - riskfree"
   ]
  },
  {
   "cell_type": "code",
   "execution_count": 927,
   "metadata": {},
   "outputs": [],
   "source": [
    "AvgExcessReturns = np.mean(excessReturns, 0)"
   ]
  },
  {
   "cell_type": "code",
   "execution_count": 928,
   "metadata": {},
   "outputs": [
    {
     "data": {
      "text/plain": [
       "matrix([[0.03895406, 0.03033031, 0.03828437, 0.04586367, 0.05053936,\n",
       "         0.02523044, 0.03730231, 0.03969303, 0.04226281, 0.04941753,\n",
       "         0.02810975, 0.03774391, 0.03836863, 0.0419938 , 0.04545084,\n",
       "         0.03136503, 0.03205376, 0.03590337, 0.04003618, 0.0428057 ,\n",
       "         0.02896459, 0.02831556, 0.0311653 , 0.0281454 , 0.04220933]])"
      ]
     },
     "execution_count": 928,
     "metadata": {},
     "output_type": "execute_result"
    }
   ],
   "source": [
    "AvgExcessReturns"
   ]
  },
  {
   "cell_type": "markdown",
   "metadata": {},
   "source": [
    "### High book to market portfolios earn more excess return"
   ]
  },
  {
   "cell_type": "markdown",
   "metadata": {},
   "source": [
    "## One way ANOVA test"
   ]
  },
  {
   "cell_type": "code",
   "execution_count": 932,
   "metadata": {
    "hide_input": true
   },
   "outputs": [],
   "source": [
    "from scipy import stats\n",
    "\n",
    "F, p = stats.f_oneway(excessReturns[:,0],excessReturns[:,1],\n",
    "excessReturns[:,2],\n",
    "excessReturns[:,3],\n",
    "excessReturns[:,4],\n",
    "excessReturns[:,5],\n",
    "excessReturns[:,6],\n",
    "excessReturns[:,7],\n",
    "excessReturns[:,8],\n",
    "excessReturns[:,9],\n",
    "excessReturns[:,10],\n",
    "excessReturns[:,11],\n",
    "excessReturns[:,12],\n",
    "excessReturns[:,13],\n",
    "excessReturns[:,14],\n",
    "excessReturns[:,15],\n",
    "excessReturns[:,16],\n",
    "excessReturns[:,17],\n",
    "excessReturns[:,18],\n",
    "excessReturns[:,19],\n",
    "excessReturns[:,20],\n",
    "excessReturns[:,21],\n",
    "excessReturns[:,22],\n",
    "excessReturns[:,23],\n",
    "excessReturns[:,24])\n"
   ]
  },
  {
   "cell_type": "code",
   "execution_count": 933,
   "metadata": {},
   "outputs": [
    {
     "data": {
      "text/plain": [
       "array([0.5949917])"
      ]
     },
     "execution_count": 933,
     "metadata": {},
     "output_type": "execute_result"
    }
   ],
   "source": [
    "F"
   ]
  },
  {
   "cell_type": "code",
   "execution_count": 934,
   "metadata": {},
   "outputs": [
    {
     "data": {
      "text/plain": [
       "array([0.94007412])"
      ]
     },
     "execution_count": 934,
     "metadata": {},
     "output_type": "execute_result"
    }
   ],
   "source": [
    "p"
   ]
  },
  {
   "cell_type": "markdown",
   "metadata": {},
   "source": [
    "### p value > 0.05 hence can't reject the null hypothesis that the means are same. "
   ]
  },
  {
   "cell_type": "markdown",
   "metadata": {},
   "source": [
    "# CAPM"
   ]
  },
  {
   "cell_type": "code",
   "execution_count": 760,
   "metadata": {},
   "outputs": [],
   "source": [
    "CAPM_Beta = []\n",
    "for i in range(excessReturns.shape[1]):\n",
    "    Y = excessReturns[:,i]\n",
    "    X = factors[:,0]\n",
    "    X = sm.add_constant(X)\n",
    "    model = sm.OLS(Y,X)\n",
    "    results = model.fit()\n",
    "    CAPM_Beta.append(results.params[1])"
   ]
  },
  {
   "cell_type": "markdown",
   "metadata": {},
   "source": [
    "## CAPM PLOT"
   ]
  },
  {
   "cell_type": "markdown",
   "metadata": {},
   "source": [
    "## upward sloping"
   ]
  },
  {
   "cell_type": "code",
   "execution_count": 768,
   "metadata": {
    "hide_input": true
   },
   "outputs": [
    {
     "data": {
      "text/plain": [
       "Text(0, 0.5, 'excess_returns')"
      ]
     },
     "execution_count": 768,
     "metadata": {},
     "output_type": "execute_result"
    },
    {
     "data": {
      "image/png": "[encoded data removed]",
      "text/plain": [
       "<Figure size 1080x576 with 1 Axes>"
      ]
     },
     "metadata": {
      "needs_background": "light"
     },
     "output_type": "display_data"
    }
   ],
   "source": [
    "Y = np.array(AvgExcessReturns)[0]\n",
    "X = np.array(CAPM_Beta)\n",
    "X = sm.add_constant(X)\n",
    "model = sm.OLS(Y,X)\n",
    "results = model.fit()\n",
    "\n",
    "plt.scatter(CAPM_Beta,np.array(AvgExcessReturns))\n",
    "plt.plot(np.array(CAPM_Beta),results.predict())\n",
    "plt.title('CAPM')\n",
    "plt.xlabel('CAPM_Beta')\n",
    "plt.ylabel('excess_returns')"
   ]
  },
  {
   "cell_type": "markdown",
   "metadata": {},
   "source": [
    "## Fama French"
   ]
  },
  {
   "cell_type": "code",
   "execution_count": 594,
   "metadata": {},
   "outputs": [],
   "source": [
    "FF_Betas = []\n",
    "FF_alphas = []\n",
    "Predicted_Re = []\n",
    "for i in range(excessReturns.shape[1]):\n",
    "    Y = excessReturns[:,i]\n",
    "    X = factors\n",
    "    X = sm.add_constant(X)\n",
    "    model = sm.OLS(Y,X)\n",
    "    results = model.fit()\n",
    "    Predicted_Re.append(np.mean(results.predict()))\n",
    "    FF_Betas.append(results.params[1:])\n",
    "    FF_alphas.append(results.params[0])"
   ]
  },
  {
   "cell_type": "markdown",
   "metadata": {},
   "source": [
    "## Fama French plot"
   ]
  },
  {
   "cell_type": "markdown",
   "metadata": {},
   "source": [
    "## Downward sloping"
   ]
  },
  {
   "cell_type": "code",
   "execution_count": 770,
   "metadata": {
    "hide_input": true
   },
   "outputs": [
    {
     "data": {
      "text/plain": [
       "Text(0, 0.5, 'excess_returns')"
      ]
     },
     "execution_count": 770,
     "metadata": {},
     "output_type": "execute_result"
    },
    {
     "data": {
      "image/png": "[encoded data removed]",
      "text/plain": [
       "<Figure size 1080x576 with 1 Axes>"
      ]
     },
     "metadata": {
      "needs_background": "light"
     },
     "output_type": "display_data"
    }
   ],
   "source": [
    "\n",
    "\n",
    "Y = np.array(AvgExcessReturns)[0]\n",
    "X = np.array(FF_Betas)[:,0]\n",
    "X = sm.add_constant(X)\n",
    "model = sm.OLS(Y,X)\n",
    "results = model.fit()\n",
    "\n",
    "plt.scatter(np.array(FF_Betas)[:,0],np.array(AvgExcessReturns))\n",
    "plt.plot(np.array(FF_Betas)[:,0],results.predict())\n",
    "plt.title('Fama French')\n",
    "plt.xlabel('FF_Beta')\n",
    "plt.ylabel('excess_returns')"
   ]
  },
  {
   "cell_type": "markdown",
   "metadata": {},
   "source": [
    "## predicted vs actual excesse returns for Fama French"
   ]
  },
  {
   "cell_type": "markdown",
   "metadata": {},
   "source": [
    "## upward  sloping"
   ]
  },
  {
   "cell_type": "code",
   "execution_count": 772,
   "metadata": {
    "hide_input": true
   },
   "outputs": [
    {
     "data": {
      "text/plain": [
       "Text(0, 0.5, 'Actual excess_returns')"
      ]
     },
     "execution_count": 772,
     "metadata": {},
     "output_type": "execute_result"
    },
    {
     "data": {
      "image/png": "[encoded data removed]",
      "text/plain": [
       "<Figure size 1080x576 with 1 Axes>"
      ]
     },
     "metadata": {
      "needs_background": "light"
     },
     "output_type": "display_data"
    }
   ],
   "source": [
    "plt.scatter(Predicted_Re,np.array(AvgExcessReturns)[0])\n",
    "plt.plot(Predicted_Re,np.array(AvgExcessReturns)[0])\n",
    "plt.title('Predicted vs Actual excesse returns')\n",
    "plt.xlabel('Predicted excess_returns')\n",
    "plt.ylabel('Actual excess_returns')"
   ]
  },
  {
   "cell_type": "markdown",
   "metadata": {},
   "source": [
    "## part 6\n",
    "\n",
    "## Fama Macbeth regression for 25 Potfolios"
   ]
  },
  {
   "cell_type": "code",
   "execution_count": 773,
   "metadata": {},
   "outputs": [],
   "source": [
    "risk_premia = []\n",
    "for i in range(97):\n",
    "    n = 252*i\n",
    "    data1 = data[n:252+n]\n",
    "\n",
    "    dates = data1['date'].values\n",
    "    factors = data1[['Mkt-RF', 'SMB', 'HML']].values\n",
    "    riskfree = data1['RF'].values\n",
    "    portfolios = data1.iloc[:, 5:].values\n",
    "\n",
    "\n",
    "    factors = np.mat(factors)\n",
    "    riskfree = np.mat(riskfree)\n",
    "    portfolios = np.mat(portfolios)\n",
    "\n",
    "\n",
    "    T,K = factors.shape\n",
    "    T,N = portfolios.shape\n",
    "    riskfree.shape = T,1\n",
    "    excessReturns = portfolios - riskfree\n",
    "    \n",
    "    X = sm.add_constant(factors)\n",
    "    ts_res = sm.OLS(excessReturns, X).fit()\n",
    "    alpha = ts_res.params[0]\n",
    "    beta = ts_res.params[1:]\n",
    "    \n",
    "    n = 252*(i+1)\n",
    "    data1 = data[n:252+n]\n",
    "\n",
    "    dates = data1['date'].values\n",
    "    factors = data1[['Mkt-RF', 'SMB', 'HML']].values\n",
    "    riskfree = data1['RF'].values\n",
    "    portfolios = data1.iloc[:, 5:].values\n",
    "\n",
    "    factors = np.mat(factors)\n",
    "    riskfree = np.mat(riskfree)\n",
    "    portfolios = np.mat(portfolios)\n",
    "\n",
    "    T,K = factors.shape\n",
    "    T,N = portfolios.shape\n",
    "    riskfree.shape = T,1\n",
    "    excessReturns = portfolios - riskfree\n",
    "    avgExcessReturns = np.mean(excessReturns, 0)\n",
    "    \n",
    "    # Cross-section regression\n",
    "    cs_res = sm.OLS(avgExcessReturns.T, beta.T).fit()\n",
    "    riskPremia = cs_res.params\n",
    "    risk_premia.append(riskPremia)\n",
    "\n",
    "Market_PriceOfRisk = np.array(risk_premia)[:,0]\n",
    "SMB_PriceOfRisk = np.array(risk_premia)[:,1]\n",
    "HML_PriceOfRisk = np.array(risk_premia)[:,2]"
   ]
  },
  {
   "cell_type": "markdown",
   "metadata": {},
   "source": [
    "## risk premia for market, SMB and HML factors respectively "
   ]
  },
  {
   "cell_type": "code",
   "execution_count": 777,
   "metadata": {
    "hide_input": true
   },
   "outputs": [
    {
     "data": {
      "text/plain": [
       "Text(0.5, 1.0, 'Market $\\\\lambda$')"
      ]
     },
     "execution_count": 777,
     "metadata": {},
     "output_type": "execute_result"
    },
    {
     "data": {
      "image/png": "[encoded data removed]",
      "text/plain": [
       "<Figure size 1080x576 with 1 Axes>"
      ]
     },
     "metadata": {
      "needs_background": "light"
     },
     "output_type": "display_data"
    }
   ],
   "source": [
    "plt.scatter(range(97), Market_PriceOfRisk)\n",
    "plt.plot(range(97),predictor(range(97),Market_PriceOfRisk))\n",
    "plt.title('Market $\\lambda$')"
   ]
  },
  {
   "cell_type": "code",
   "execution_count": 778,
   "metadata": {
    "hide_input": true
   },
   "outputs": [
    {
     "data": {
      "text/plain": [
       "Text(0.5, 1.0, 'SMB $\\\\lambda$')"
      ]
     },
     "execution_count": 778,
     "metadata": {},
     "output_type": "execute_result"
    },
    {
     "data": {
      "image/png": "[encoded data removed]",
      "text/plain": [
       "<Figure size 1080x576 with 1 Axes>"
      ]
     },
     "metadata": {
      "needs_background": "light"
     },
     "output_type": "display_data"
    }
   ],
   "source": [
    "plt.scatter(range(97),SMB_PriceOfRisk)\n",
    "plt.plot(range(97),predictor(range(97),SMB_PriceOfRisk))\n",
    "plt.title('SMB $\\lambda$')"
   ]
  },
  {
   "cell_type": "code",
   "execution_count": 779,
   "metadata": {
    "hide_input": true
   },
   "outputs": [
    {
     "data": {
      "text/plain": [
       "Text(0.5, 1.0, 'HML $\\\\lambda$')"
      ]
     },
     "execution_count": 779,
     "metadata": {},
     "output_type": "execute_result"
    },
    {
     "data": {
      "image/png": "[encoded data removed]",
      "text/plain": [
       "<Figure size 1080x576 with 1 Axes>"
      ]
     },
     "metadata": {
      "needs_background": "light"
     },
     "output_type": "display_data"
    }
   ],
   "source": [
    "plt.scatter(range(97),HML_PriceOfRisk)\n",
    "plt.plot(range(97),predictor(range(97),HML_PriceOfRisk))\n",
    "plt.title('HML $\\lambda$')"
   ]
  },
  {
   "cell_type": "markdown",
   "metadata": {},
   "source": [
    "## $$$$"
   ]
  },
  {
   "cell_type": "markdown",
   "metadata": {},
   "source": [
    "$$$$"
   ]
  },
  {
   "cell_type": "markdown",
   "metadata": {},
   "source": [
    "# Problem 5\n",
    "\n",
    "## Fama Macbeth regression for 100 Potfolios"
   ]
  },
  {
   "cell_type": "code",
   "execution_count": 780,
   "metadata": {},
   "outputs": [],
   "source": [
    "data = pd.read_csv(\"F_F100.csv\")"
   ]
  },
  {
   "cell_type": "code",
   "execution_count": 781,
   "metadata": {},
   "outputs": [],
   "source": [
    "risk_premia = []\n",
    "for i in range(97):\n",
    "    n = 252*i\n",
    "    data1 = data[n:252+n]\n",
    "\n",
    "    dates = data1['date'].values\n",
    "    factors = data1[['Mkt-RF', 'SMB', 'HML']].values\n",
    "    riskfree = data1['RF'].values\n",
    "    portfolios = data1.iloc[:, 5:].values\n",
    "\n",
    "\n",
    "    factors = np.mat(factors)\n",
    "    riskfree = np.mat(riskfree)\n",
    "    portfolios = np.mat(portfolios)\n",
    "\n",
    "\n",
    "    T,K = factors.shape\n",
    "    T,N = portfolios.shape\n",
    "    riskfree.shape = T,1\n",
    "    excessReturns = portfolios - riskfree\n",
    "    \n",
    "    X = sm.add_constant(factors)\n",
    "    ts_res = sm.OLS(excessReturns, X).fit()\n",
    "    alpha = ts_res.params[0]\n",
    "    beta = ts_res.params[1:]\n",
    "    \n",
    "    n = 252*(i+1)\n",
    "    data1 = data[n:252+n]\n",
    "\n",
    "    dates = data1['date'].values\n",
    "    factors = data1[['Mkt-RF', 'SMB', 'HML']].values\n",
    "    riskfree = data1['RF'].values\n",
    "    portfolios = data1.iloc[:, 5:].values\n",
    "\n",
    "    factors = np.mat(factors)\n",
    "    riskfree = np.mat(riskfree)\n",
    "    portfolios = np.mat(portfolios)\n",
    "\n",
    "    T,K = factors.shape\n",
    "    T,N = portfolios.shape\n",
    "    riskfree.shape = T,1\n",
    "    excessReturns = portfolios - riskfree\n",
    "    avgExcessReturns = np.mean(excessReturns, 0)\n",
    "    \n",
    "    # Cross-section regression\n",
    "    cs_res = sm.OLS(avgExcessReturns.T, beta.T).fit()\n",
    "    riskPremia = cs_res.params\n",
    "    risk_premia.append(riskPremia)"
   ]
  },
  {
   "cell_type": "code",
   "execution_count": 782,
   "metadata": {},
   "outputs": [],
   "source": [
    "Market_PriceOfRisk = np.array(risk_premia)[:,0]\n",
    "SMB_PriceOfRisk = np.array(risk_premia)[:,1]\n",
    "HML_PriceOfRisk = np.array(risk_premia)[:,2]"
   ]
  },
  {
   "cell_type": "code",
   "execution_count": 783,
   "metadata": {},
   "outputs": [],
   "source": [
    "import scipy.stats\n",
    "\n",
    "\n",
    "def mean_confidence_interval(data, confidence=0.95):\n",
    "    n = len(data)\n",
    "    m, se = np.mean(data), scipy.stats.sem(data)\n",
    "    h = se * scipy.stats.t.ppf((1 + confidence) / 2., n-1)\n",
    "    return m, m-h, m+h"
   ]
  },
  {
   "cell_type": "markdown",
   "metadata": {},
   "source": [
    "## Confidence Intervals"
   ]
  },
  {
   "cell_type": "code",
   "execution_count": 791,
   "metadata": {
    "hide_input": true
   },
   "outputs": [
    {
     "name": "stdout",
     "output_type": "stream",
     "text": [
      "Market_PriceOfRisk\n",
      "mean : -0.314095123210511, CI: [-0.6956518910937277,0.06746164467270582]\n"
     ]
    }
   ],
   "source": [
    "A = mean_confidence_interval(Market_PriceOfRisk, confidence=0.95)\n",
    "print(\"Market_PriceOfRisk\")\n",
    "print('mean : {}, CI: [{},{}]'.format(A[0],A[1],A[2]))"
   ]
  },
  {
   "cell_type": "code",
   "execution_count": 792,
   "metadata": {
    "hide_input": true
   },
   "outputs": [
    {
     "name": "stdout",
     "output_type": "stream",
     "text": [
      "SMB_PriceOfRisk\n",
      "mean : -0.17739128927623296, CI: [-0.6688821123094986,0.3140995337570327]\n"
     ]
    }
   ],
   "source": [
    "B = mean_confidence_interval(SMB_PriceOfRisk, confidence=0.95)\n",
    "print(\"SMB_PriceOfRisk\")\n",
    "print('mean : {}, CI: [{},{}]'.format(B[0],B[1],B[2]))\n"
   ]
  },
  {
   "cell_type": "code",
   "execution_count": 793,
   "metadata": {
    "hide_input": true
   },
   "outputs": [
    {
     "name": "stdout",
     "output_type": "stream",
     "text": [
      "HML_PriceOfRisk\n",
      "mean : -0.03530093396422511, CI: [-0.5524650141533279,0.48186314622487775]\n"
     ]
    }
   ],
   "source": [
    "C = mean_confidence_interval(HML_PriceOfRisk, confidence=0.95)\n",
    "print(\"HML_PriceOfRisk\")\n",
    "print('mean : {}, CI: [{},{}]'.format(C[0],C[1],C[2]))\n"
   ]
  },
  {
   "cell_type": "markdown",
   "metadata": {},
   "source": [
    "## risk premium plots for each factor"
   ]
  },
  {
   "cell_type": "code",
   "execution_count": 794,
   "metadata": {
    "hide_input": true
   },
   "outputs": [],
   "source": [
    "def predictor(X,Y):\n",
    "    X = sm.add_constant(X)\n",
    "    model = sm.OLS(Y,X)\n",
    "    results = model.fit()\n",
    "    return results.predict()"
   ]
  },
  {
   "cell_type": "code",
   "execution_count": 796,
   "metadata": {
    "hide_input": true
   },
   "outputs": [
    {
     "data": {
      "text/plain": [
       "Text(0.5, 1.0, 'market')"
      ]
     },
     "execution_count": 796,
     "metadata": {},
     "output_type": "execute_result"
    },
    {
     "data": {
      "image/png": "[encoded data removed]",
      "text/plain": [
       "<Figure size 1080x576 with 1 Axes>"
      ]
     },
     "metadata": {
      "needs_background": "light"
     },
     "output_type": "display_data"
    }
   ],
   "source": [
    "plt.scatter(range(97), Market_PriceOfRisk)\n",
    "plt.plot(range(97),predictor(range(97),Market_PriceOfRisk))\n",
    "plt.title('market')"
   ]
  },
  {
   "cell_type": "code",
   "execution_count": 797,
   "metadata": {
    "hide_input": true
   },
   "outputs": [
    {
     "data": {
      "text/plain": [
       "Text(0.5, 1.0, 'SMB')"
      ]
     },
     "execution_count": 797,
     "metadata": {},
     "output_type": "execute_result"
    },
    {
     "data": {
      "image/png": "[encoded data removed]",
      "text/plain": [
       "<Figure size 1080x576 with 1 Axes>"
      ]
     },
     "metadata": {
      "needs_background": "light"
     },
     "output_type": "display_data"
    }
   ],
   "source": [
    "plt.scatter(range(97),SMB_PriceOfRisk)\n",
    "plt.plot(range(97),predictor(range(97),SMB_PriceOfRisk))\n",
    "plt.title('SMB')"
   ]
  },
  {
   "cell_type": "code",
   "execution_count": 798,
   "metadata": {
    "hide_input": true
   },
   "outputs": [
    {
     "data": {
      "text/plain": [
       "Text(0.5, 1.0, 'HML')"
      ]
     },
     "execution_count": 798,
     "metadata": {},
     "output_type": "execute_result"
    },
    {
     "data": {
      "image/png": "[encoded data removed]",
      "text/plain": [
       "<Figure size 1080x576 with 1 Axes>"
      ]
     },
     "metadata": {
      "needs_background": "light"
     },
     "output_type": "display_data"
    }
   ],
   "source": [
    "plt.scatter(range(97),HML_PriceOfRisk)\n",
    "plt.plot(range(97),predictor(range(97),HML_PriceOfRisk))\n",
    "plt.title('HML')"
   ]
  },
  {
   "cell_type": "code",
   "execution_count": null,
   "metadata": {},
   "outputs": [],
   "source": []
  }
 ],
 "metadata": {
  "hide_input": false,
  "kernelspec": {
   "display_name": "Python 3",
   "language": "python",
   "name": "python3"
  },
  "language_info": {
   "codemirror_mode": {
    "name": "ipython",
    "version": 3
   },
   "file_extension": ".py",
   "mimetype": "text/x-python",
   "name": "python",
   "nbconvert_exporter": "python",
   "pygments_lexer": "ipython3",
   "version": "3.7.6"
  }
 },
 "nbformat": 4,
 "nbformat_minor": 4
}
